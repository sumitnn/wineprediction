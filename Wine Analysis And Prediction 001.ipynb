{
 "cells": [
  {
   "cell_type": "code",
   "execution_count": null,
   "id": "e0b900f9",
   "metadata": {},
   "outputs": [],
   "source": [
    "import pandas as pd\n",
    "import numpy as np\n",
    "import matplotlib.pyplot as plt\n",
    "import seaborn as sns\n",
    "%matplotlib inline"
   ]
  },
  {
   "cell_type": "code",
   "execution_count": null,
   "id": "bbc92dc7",
   "metadata": {},
   "outputs": [],
   "source": [
    "df=pd.read_csv('L:\\solitare infosis\\djangowithml\\winequality-red.csv')\n",
    "# top 5 rows\n",
    "df.head()"
   ]
  },
  {
   "cell_type": "code",
   "execution_count": null,
   "id": "2aeda366",
   "metadata": {},
   "outputs": [],
   "source": [
    "# check shape of data\n",
    "df.shape"
   ]
  },
  {
   "cell_type": "code",
   "execution_count": null,
   "id": "0a5677d7",
   "metadata": {},
   "outputs": [],
   "source": [
    "df.info()"
   ]
  },
  {
   "cell_type": "code",
   "execution_count": null,
   "id": "434e6644",
   "metadata": {},
   "outputs": [],
   "source": [
    "x=df.drop('quality',axis=1)\n",
    "y=df['quality']"
   ]
  },
  {
   "cell_type": "code",
   "execution_count": null,
   "id": "38bf5ea0",
   "metadata": {},
   "outputs": [],
   "source": [
    "plt.title('Quality (Dependent Column)')\n",
    "df['quality'].value_counts().plot.bar();\n",
    "# this graph shows imbalanced data"
   ]
  },
  {
   "cell_type": "code",
   "execution_count": null,
   "id": "f82ca9a0",
   "metadata": {},
   "outputs": [],
   "source": []
  },
  {
   "cell_type": "code",
   "execution_count": null,
   "id": "2ccd0457",
   "metadata": {},
   "outputs": [],
   "source": [
    "# imbalanced data available in quality columns to fix this first\n",
    "import imblearn\n",
    "from collections import Counter\n",
    "from imblearn.over_sampling import SMOTE\n",
    "smote=SMOTE()\n",
    "x,y=smote.fit_resample(x,y)\n",
    "counter = Counter(y)\n",
    "print(counter)"
   ]
  },
  {
   "cell_type": "code",
   "execution_count": null,
   "id": "e080457c",
   "metadata": {},
   "outputs": [],
   "source": [
    "# after fixed imbalanced data\n",
    "plt.title('Quality (Dependent Column)')\n",
    "plt.hist(y);"
   ]
  },
  {
   "cell_type": "code",
   "execution_count": null,
   "id": "745ce2cd",
   "metadata": {},
   "outputs": [],
   "source": [
    "# label encoding\n",
    "from sklearn.preprocessing import LabelEncoder\n",
    "le=LabelEncoder()\n",
    "le.fit(y)\n",
    "y=pd.DataFrame(le.transform(y),columns=['quality'])\n",
    "y\n"
   ]
  },
  {
   "cell_type": "code",
   "execution_count": null,
   "id": "eb0ec524",
   "metadata": {},
   "outputs": [],
   "source": [
    "x"
   ]
  },
  {
   "cell_type": "code",
   "execution_count": null,
   "id": "2c63acf7",
   "metadata": {},
   "outputs": [],
   "source": [
    "# Feature SELECTION \n",
    "# interrelationship between feature\n",
    "plt.figure(figsize=(10,6))\n",
    "sns.heatmap(x.corr(),annot=True,cmap=\"YlGnBu\");"
   ]
  },
  {
   "cell_type": "code",
   "execution_count": null,
   "id": "2d3ef2e7",
   "metadata": {},
   "outputs": [],
   "source": [
    "# correlation with dependent variable\n",
    "# concat x,y features to obtain correlation\n",
    "df1=pd.concat([x,y],axis=1)\n",
    "df1.head()\n",
    "\n",
    "plt.figure(figsize=(10,6))\n",
    "sns.heatmap(df1.corr(),annot=True,cmap=\"YlGnBu\");"
   ]
  },
  {
   "cell_type": "code",
   "execution_count": null,
   "id": "cbf8e664",
   "metadata": {},
   "outputs": [],
   "source": [
    "# drop features\n",
    "X=df1.drop(['pH','density','total sulfur dioxide','chlorides','volatile acidity','residual sugar','quality'],axis=1)\n",
    "y=df1['quality']"
   ]
  },
  {
   "cell_type": "code",
   "execution_count": null,
   "id": "9eac1e87",
   "metadata": {},
   "outputs": [],
   "source": [
    "# kdeplot of all Features\n",
    "columns=X.columns\n",
    "for i in columns:\n",
    "    plt.figure(figsize=(7,4))\n",
    "    plt.title(i)\n",
    "    sns.kdeplot(X[i])\n",
    "plt.show()\n",
    "    "
   ]
  },
  {
   "cell_type": "code",
   "execution_count": null,
   "id": "0043abe4",
   "metadata": {},
   "outputs": [],
   "source": [
    "# transformation of data\n",
    "# log transformed because right skewed\n",
    "from sklearn.preprocessing import FunctionTransformer\n",
    "transformer = FunctionTransformer(np.log1p)\n",
    "X=transformer.fit_transform(X)"
   ]
  },
  {
   "cell_type": "code",
   "execution_count": null,
   "id": "fd9e5078",
   "metadata": {},
   "outputs": [],
   "source": [
    "#after transform kdeplot of all Features\n",
    "columns=X.columns\n",
    "for i in columns:\n",
    "    plt.figure(figsize=(7,4))\n",
    "    plt.title(i)\n",
    "    sns.kdeplot(X[i])\n",
    "    \n",
    "plt.show()"
   ]
  },
  {
   "cell_type": "code",
   "execution_count": null,
   "id": "ca5fab48",
   "metadata": {},
   "outputs": [],
   "source": [
    "# feature scaling\n",
    "# from sklearn.preprocessing import StandardScaler\n",
    "# sc=StandardScaler()\n",
    "# sc.fit(X)\n",
    "# X=sc.transform(X)"
   ]
  },
  {
   "cell_type": "code",
   "execution_count": null,
   "id": "c4f37119",
   "metadata": {},
   "outputs": [],
   "source": [
    "X.shape"
   ]
  },
  {
   "cell_type": "code",
   "execution_count": null,
   "id": "7652c95e",
   "metadata": {},
   "outputs": [],
   "source": [
    "# Model selection\n",
    "from sklearn.model_selection import train_test_split\n",
    "from sklearn.model_selection import cross_val_score\n",
    "from sklearn.metrics import confusion_matrix\n",
    "from sklearn.metrics import mean_squared_error,accuracy_score\n",
    "\n",
    "def modelselection(model,x,y):\n",
    "    xtrain,xtest,ytrain,ytest = train_test_split(x,y,test_size=0.25)\n",
    "    model.fit(xtrain,ytrain)\n",
    "    pred=model.predict(xtest)\n",
    "    print('score',model.score(xtest,ytest))\n",
    "    cscore=cross_val_score(model,x,y,cv=5,n_jobs=-1)\n",
    "    print(\"cross val score\",np.mean(cscore))\n",
    "    cm=confusion_matrix(pred,ytest)\n",
    "    print('Confusion matrix',cm)\n",
    "    print('rmse',np.sqrt(mean_squared_error(pred,ytest)))\n",
    "    print('accuracy_score',accuracy_score(pred,ytest))\n",
    "    \n",
    "    "
   ]
  },
  {
   "cell_type": "code",
   "execution_count": null,
   "id": "55823cd7",
   "metadata": {},
   "outputs": [],
   "source": [
    "# logistic regression\n",
    "from sklearn.linear_model import LogisticRegression\n",
    "lr=LogisticRegression(max_iter=1000)\n",
    "modelselection(lr,X,y)"
   ]
  },
  {
   "cell_type": "code",
   "execution_count": null,
   "id": "3137b3fe",
   "metadata": {},
   "outputs": [],
   "source": [
    "# decision tree \n",
    "from sklearn.tree import DecisionTreeClassifier\n",
    "dt=DecisionTreeClassifier()\n",
    "modelselection(dt,X,y)"
   ]
  },
  {
   "cell_type": "code",
   "execution_count": null,
   "id": "03c79c90",
   "metadata": {},
   "outputs": [],
   "source": [
    "# random forest\n",
    "from sklearn.ensemble import RandomForestClassifier\n",
    "rf=RandomForestClassifier()\n",
    "modelselection(rf,X,y)\n"
   ]
  },
  {
   "cell_type": "code",
   "execution_count": null,
   "id": "1677db8e",
   "metadata": {},
   "outputs": [],
   "source": [
    "# xgboost\n",
    "import xgboost\n",
    "xg=xgboost.XGBClassifier(use_label_encoder=False)\n",
    "modelselection(xg,X,y)"
   ]
  },
  {
   "cell_type": "code",
   "execution_count": null,
   "id": "4e514a61",
   "metadata": {},
   "outputs": [],
   "source": [
    "from sklearn.ensemble import ExtraTreesClassifier\n",
    "et=ExtraTreesClassifier()\n",
    "modelselection(et,X,y)"
   ]
  },
  {
   "cell_type": "code",
   "execution_count": null,
   "id": "d9c40e43",
   "metadata": {},
   "outputs": [],
   "source": [
    "# extra tree classifier perform well\n",
    "# hyperparameter tuning\n",
    "# from sklearn.model_selection import GridSearchCV\n",
    "# parameter={\n",
    "#     'n_estimators':[100,200,90,150,300,500],\n",
    "#     'criterion':['gini','entropy'],\n",
    "#     'max_depth': [None,2,8,16,32,50,100],\n",
    "#     'min_samples_split': [2,4,6],\n",
    "#     'min_samples_leaf': [1,2],\n",
    "# }\n",
    "# gscv=GridSearchCV(et,parameter,cv=10,n_jobs=-1)\n",
    "# gscv.fit(X,y)\n",
    "\n",
    "        \n",
    "   "
   ]
  },
  {
   "cell_type": "code",
   "execution_count": null,
   "id": "6011f20f",
   "metadata": {},
   "outputs": [],
   "source": [
    "# after hyperparameter tuning\n",
    "from sklearn.ensemble import ExtraTreesClassifier\n",
    "et=ExtraTreesClassifier(max_depth=50,min_samples_split=2)\n",
    "modelselection(et,X,y)"
   ]
  },
  {
   "cell_type": "code",
   "execution_count": null,
   "id": "0790a7e8",
   "metadata": {},
   "outputs": [],
   "source": [
    "r=et.predict([transformer.transform(np.array())])"
   ]
  },
  {
   "cell_type": "code",
   "execution_count": null,
   "id": "131c5f18",
   "metadata": {},
   "outputs": [],
   "source": [
    "vv=np.array([1.85016,0.217164,2.88427,0.554303,2.701478]).reshape(1,-1)\n",
    "vv"
   ]
  },
  {
   "cell_type": "code",
   "execution_count": null,
   "id": "45c05911",
   "metadata": {},
   "outputs": [],
   "source": [
    "r=et.predict(transformer.transform(vv))"
   ]
  },
  {
   "cell_type": "code",
   "execution_count": null,
   "id": "716bbd05",
   "metadata": {},
   "outputs": [],
   "source": [
    "r"
   ]
  },
  {
   "cell_type": "code",
   "execution_count": null,
   "id": "9e9b2851",
   "metadata": {},
   "outputs": [],
   "source": [
    "# import pickle\n",
    "# # save the model to disk\n",
    "# with open('model_pkl', 'wb') as files:\n",
    "#     pickle.dump(et, files)"
   ]
  },
  {
   "cell_type": "code",
   "execution_count": 2,
   "id": "8aeedbec",
   "metadata": {},
   "outputs": [],
   "source": [
    "# load saved model\n",
    "# import pickle\n",
    "# with open('model_pkl' , 'rb') as f:\n",
    "#     lr = pickle.load(f)"
   ]
  },
  {
   "cell_type": "code",
   "execution_count": 3,
   "id": "3430b4bf",
   "metadata": {},
   "outputs": [
    {
     "name": "stderr",
     "output_type": "stream",
     "text": [
      "C:\\Users\\hp\\anaconda3\\lib\\site-packages\\sklearn\\base.py:445: UserWarning: X does not have valid feature names, but ExtraTreesClassifier was fitted with feature names\n",
      "  warnings.warn(\n"
     ]
    },
    {
     "data": {
      "text/plain": [
       "array([1], dtype=int64)"
      ]
     },
     "execution_count": 3,
     "metadata": {},
     "output_type": "execute_result"
    }
   ],
   "source": [
    "lr.predict([[1,3,5,3,2]])"
   ]
  },
  {
   "cell_type": "code",
   "execution_count": null,
   "id": "8cbde9b3",
   "metadata": {},
   "outputs": [],
   "source": []
  }
 ],
 "metadata": {
  "kernelspec": {
   "display_name": "Python 3",
   "language": "python",
   "name": "python3"
  },
  "language_info": {
   "codemirror_mode": {
    "name": "ipython",
    "version": 3
   },
   "file_extension": ".py",
   "mimetype": "text/x-python",
   "name": "python",
   "nbconvert_exporter": "python",
   "pygments_lexer": "ipython3",
   "version": "3.8.8"
  }
 },
 "nbformat": 4,
 "nbformat_minor": 5
}
